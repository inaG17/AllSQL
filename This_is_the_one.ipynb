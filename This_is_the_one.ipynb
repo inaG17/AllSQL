{
  "nbformat": 4,
  "nbformat_minor": 0,
  "metadata": {
    "colab": {
      "provenance": [],
      "include_colab_link": true
    },
    "kernelspec": {
      "name": "python3",
      "display_name": "Python 3"
    },
    "language_info": {
      "name": "python"
    }
  },
  "cells": [
    {
      "cell_type": "markdown",
      "metadata": {
        "id": "view-in-github",
        "colab_type": "text"
      },
      "source": [
        "<a href=\"https://colab.research.google.com/github/inaG17/AllSQL/blob/main/This_is_the_one.ipynb\" target=\"_parent\"><img src=\"https://colab.research.google.com/assets/colab-badge.svg\" alt=\"Open In Colab\"/></a>"
      ]
    },
    {
      "cell_type": "code",
      "source": [
        "import pandas as pd\n",
        "from sklearn.impute import SimpleImputer\n",
        "from sklearn.preprocessing import OneHotEncoder, StandardScaler\n",
        "from sklearn.compose import ColumnTransformer\n",
        "from sklearn.pipeline import Pipeline\n",
        "from sklearn.ensemble import RandomForestClassifier\n",
        "from sklearn.model_selection import cross_val_score\n",
        "import matplotlib.pyplot as plt\n",
        "import seaborn as sns\n",
        "from sklearn.model_selection import GridSearchCV\n",
        "from sklearn.preprocessing import PolynomialFeatures\n",
        "import numpy as np\n",
        "from imblearn.over_sampling import RandomOverSampler"
      ],
      "metadata": {
        "id": "3qLU7bDhaAEa"
      },
      "execution_count": null,
      "outputs": []
    },
    {
      "cell_type": "code",
      "source": [
        "!pip install XGBoost\n",
        "!pip install CatBoost"
      ],
      "metadata": {
        "colab": {
          "base_uri": "https://localhost:8080/"
        },
        "id": "gyS9XlOI2GIy",
        "outputId": "0608c4c6-36dd-44c8-c9ec-629a72e4f95b"
      },
      "execution_count": null,
      "outputs": [
        {
          "output_type": "stream",
          "name": "stdout",
          "text": [
            "Requirement already satisfied: XGBoost in /usr/local/lib/python3.10/dist-packages (2.0.1)\n",
            "Requirement already satisfied: numpy in /usr/local/lib/python3.10/dist-packages (from XGBoost) (1.23.5)\n",
            "Requirement already satisfied: scipy in /usr/local/lib/python3.10/dist-packages (from XGBoost) (1.11.3)\n",
            "Requirement already satisfied: CatBoost in /usr/local/lib/python3.10/dist-packages (1.2.2)\n",
            "Requirement already satisfied: graphviz in /usr/local/lib/python3.10/dist-packages (from CatBoost) (0.20.1)\n",
            "Requirement already satisfied: matplotlib in /usr/local/lib/python3.10/dist-packages (from CatBoost) (3.7.1)\n",
            "Requirement already satisfied: numpy>=1.16.0 in /usr/local/lib/python3.10/dist-packages (from CatBoost) (1.23.5)\n",
            "Requirement already satisfied: pandas>=0.24 in /usr/local/lib/python3.10/dist-packages (from CatBoost) (1.5.3)\n",
            "Requirement already satisfied: scipy in /usr/local/lib/python3.10/dist-packages (from CatBoost) (1.11.3)\n",
            "Requirement already satisfied: plotly in /usr/local/lib/python3.10/dist-packages (from CatBoost) (5.15.0)\n",
            "Requirement already satisfied: six in /usr/local/lib/python3.10/dist-packages (from CatBoost) (1.16.0)\n",
            "Requirement already satisfied: python-dateutil>=2.8.1 in /usr/local/lib/python3.10/dist-packages (from pandas>=0.24->CatBoost) (2.8.2)\n",
            "Requirement already satisfied: pytz>=2020.1 in /usr/local/lib/python3.10/dist-packages (from pandas>=0.24->CatBoost) (2023.3.post1)\n",
            "Requirement already satisfied: contourpy>=1.0.1 in /usr/local/lib/python3.10/dist-packages (from matplotlib->CatBoost) (1.2.0)\n",
            "Requirement already satisfied: cycler>=0.10 in /usr/local/lib/python3.10/dist-packages (from matplotlib->CatBoost) (0.12.1)\n",
            "Requirement already satisfied: fonttools>=4.22.0 in /usr/local/lib/python3.10/dist-packages (from matplotlib->CatBoost) (4.44.0)\n",
            "Requirement already satisfied: kiwisolver>=1.0.1 in /usr/local/lib/python3.10/dist-packages (from matplotlib->CatBoost) (1.4.5)\n",
            "Requirement already satisfied: packaging>=20.0 in /usr/local/lib/python3.10/dist-packages (from matplotlib->CatBoost) (23.2)\n",
            "Requirement already satisfied: pillow>=6.2.0 in /usr/local/lib/python3.10/dist-packages (from matplotlib->CatBoost) (9.4.0)\n",
            "Requirement already satisfied: pyparsing>=2.3.1 in /usr/local/lib/python3.10/dist-packages (from matplotlib->CatBoost) (3.1.1)\n",
            "Requirement already satisfied: tenacity>=6.2.0 in /usr/local/lib/python3.10/dist-packages (from plotly->CatBoost) (8.2.3)\n"
          ]
        }
      ]
    },
    {
      "cell_type": "code",
      "source": [
        "from xgboost import XGBClassifier\n",
        "from catboost import CatBoostClassifier\n",
        "from sklearn.ensemble import ExtraTreesClassifier"
      ],
      "metadata": {
        "id": "Ksskpc052Mgq"
      },
      "execution_count": null,
      "outputs": []
    },
    {
      "cell_type": "code",
      "source": [
        "# Load the datasets\n",
        "train_data_path = 'credit_data_train.csv'\n",
        "test_data_path = 'credit_data_test.csv'\n",
        "sample_submission_path = 'sample_submission.csv'\n",
        "\n",
        "train_data = pd.read_csv(train_data_path)\n",
        "test_data = pd.read_csv(test_data_path)\n",
        "sample_submission = pd.read_csv(sample_submission_path)"
      ],
      "metadata": {
        "id": "wz4f4HsATUfn"
      },
      "execution_count": null,
      "outputs": []
    },
    {
      "cell_type": "code",
      "source": [
        "# Impute missing values for 'age' using the median\n",
        "imputer = SimpleImputer(strategy='median')\n",
        "train_data['age'] = imputer.fit_transform(train_data[['age']])\n",
        "\n",
        "# Identify categorical and numerical columns\n",
        "categorical_cols = train_data.select_dtypes(include=['object', 'bool']).columns\n",
        "numerical_cols = train_data.select_dtypes(include=['int64', 'float64']).columns.drop('class')\n",
        "\n",
        "preprocessor = ColumnTransformer(\n",
        "    transformers=[\n",
        "        ('num', StandardScaler(), numerical_cols),\n",
        "        ('cat', OneHotEncoder(handle_unknown='ignore'), categorical_cols)\n",
        "    ]\n",
        ")\n",
        "\n",
        "# Apply preprocessing to the training data\n",
        "X_train = preprocessor.fit_transform(train_data.drop('class', axis=1))\n",
        "y_train = train_data['class'].values\n",
        "\n",
        "# Apply the same preprocessing to the test data\n",
        "X_test = preprocessor.transform(test_data)\n",
        "\n",
        "(X_train.shape, y_train.shape, X_test.shape)\n",
        "\n",
        "# Initialize the Random Forest classifier\n",
        "rf_classifier = RandomForestClassifier(random_state=0)\n",
        "\n",
        "# Perform cross-validation to evaluate the model's performance\n",
        "cv_scores = cross_val_score(rf_classifier, X_train, y_train, cv=5, scoring='roc_auc')\n",
        "\n",
        "# Train the model on the entire training data\n",
        "rf_classifier.fit(X_train, y_train)\n",
        "\n",
        "# Cross-validation scores\n",
        "cv_scores.mean(), cv_scores.std()"
      ],
      "metadata": {
        "colab": {
          "base_uri": "https://localhost:8080/"
        },
        "id": "OcLxSg0wTawL",
        "outputId": "217b32af-85a0-4b1e-face-3f16712b2d8f"
      },
      "execution_count": null,
      "outputs": [
        {
          "output_type": "execute_result",
          "data": {
            "text/plain": [
              "(0.7950411668045596, 0.04395628450752299)"
            ]
          },
          "metadata": {},
          "execution_count": 298
        }
      ]
    },
    {
      "cell_type": "code",
      "source": [
        "# Define a smaller grid of hyperparameters to search\n",
        "small_param_grid = {\n",
        "    'n_estimators': [100, 150],  # fewer options\n",
        "    'max_depth': [None, 20],  # fewer options\n",
        "    'min_samples_split': [2, 5],  # fewer options\n",
        "    'min_samples_leaf': [1, 2]  # fewer options\n",
        "}\n",
        "\n",
        "# Initialize the Grid Search with cross-validation, this time with a smaller grid\n",
        "small_grid_search = GridSearchCV(estimator=rf_classifier, param_grid=small_param_grid, cv=3, n_jobs=-1, verbose=2, scoring='roc_auc')\n",
        "\n",
        "# Perform the grid search on the training data\n",
        "small_grid_search.fit(X_train, y_train)\n",
        "\n",
        "# Best parameters and best score from the smaller grid search\n",
        "small_best_params = small_grid_search.best_params_\n",
        "small_best_score = small_grid_search.best_score_\n",
        "\n",
        "(small_best_params, small_best_score)\n"
      ],
      "metadata": {
        "colab": {
          "base_uri": "https://localhost:8080/"
        },
        "id": "X6tFIAWbrHmG",
        "outputId": "45792cca-b77e-4e3e-8d01-11adf14420f6"
      },
      "execution_count": null,
      "outputs": [
        {
          "output_type": "stream",
          "name": "stdout",
          "text": [
            "Fitting 3 folds for each of 16 candidates, totalling 48 fits\n"
          ]
        },
        {
          "output_type": "execute_result",
          "data": {
            "text/plain": [
              "({'max_depth': 20,\n",
              "  'min_samples_leaf': 1,\n",
              "  'min_samples_split': 5,\n",
              "  'n_estimators': 150},\n",
              " 0.7962294720816051)"
            ]
          },
          "metadata": {},
          "execution_count": 299
        }
      ]
    },
    {
      "cell_type": "code",
      "source": [
        "# Train a new Random Forest classifier with the best parameters from the grid search\n",
        "optimized_rf_classifier = RandomForestClassifier(\n",
        "    n_estimators=small_best_params['n_estimators'],\n",
        "    max_depth=small_best_params['max_depth'],\n",
        "    min_samples_split=small_best_params['min_samples_split'],\n",
        "    min_samples_leaf=small_best_params['min_samples_leaf'],\n",
        "    random_state=0\n",
        ")\n",
        "\n",
        "# Perform cross-validation to evaluate the optimized model's performance\n",
        "optimized_cv_scores = cross_val_score(optimized_rf_classifier, X_train, y_train, cv=5, scoring='roc_auc')\n",
        "\n",
        "# Train the optimized model on the entire training data\n",
        "optimized_rf_classifier.fit(X_train, y_train)\n",
        "\n",
        "# Cross-validation scores for the optimized model\n",
        "optimized_cv_scores.mean(), optimized_cv_scores.std()\n"
      ],
      "metadata": {
        "colab": {
          "base_uri": "https://localhost:8080/"
        },
        "id": "rS4l4H7bq8BC",
        "outputId": "c29d4d86-3590-4603-a31b-1994060eb62c"
      },
      "execution_count": null,
      "outputs": [
        {
          "output_type": "execute_result",
          "data": {
            "text/plain": [
              "(0.7885077679720537, 0.04257446600842665)"
            ]
          },
          "metadata": {},
          "execution_count": 300
        }
      ]
    },
    {
      "cell_type": "code",
      "source": [
        "# Assumptions based on the example provided\n",
        "average_loan_value = 2814.646  # average loan amount\n",
        "interest_rate = 0.029675  # assumed interest rate for TN\n",
        "interest_income = average_loan_value * interest_rate  # benefit of TN\n",
        "\n",
        "# The cost of FP is assumed to be the loss of the entire loan amount\n",
        "cost_of_fp = average_loan_value\n",
        "\n",
        "# The cost of FN is assumed to be the lost interest income\n",
        "cost_of_fn = interest_income\n",
        "\n",
        "# Calculate the benefit for TP which is avoiding the loss of the loan amount (same as cost of FP)\n",
        "benefit_of_tp = interest_income\n",
        "\n",
        "# No actual benefit for TN since it is the expected scenario, but we avoid cost of FN\n",
        "benefit_of_tn = 0\n",
        "\n",
        "# Function to calculate the total profit based on a decision threshold\n",
        "def calculate_profit(thresholds, probabilities, true_values):\n",
        "    profits = []\n",
        "    for threshold in thresholds:\n",
        "        # Make predictions based on the threshold\n",
        "        predictions = (probabilities >= threshold).astype(int)\n",
        "\n",
        "        # Calculate confusion matrix components\n",
        "        TP = np.sum((predictions == 0) & (true_values == 0))\n",
        "        FP = np.sum((predictions == 0) & (true_values == 1))\n",
        "        TN = np.sum((predictions == 1) & (true_values == 1))\n",
        "        FN = np.sum((predictions == 1) & (true_values == 0))\n",
        "\n",
        "        # Calculate total profit\n",
        "        total_profit = (TP * benefit_of_tp) + (TN * benefit_of_tn) - (FP * cost_of_fp) - (FN * cost_of_fn)\n",
        "        profits.append(total_profit)\n",
        "\n",
        "    return profits\n",
        "\n",
        "# We'll use the training set probabilities and true values for this analysis\n",
        "train_probabilities = optimized_rf_classifier.predict_proba(X_train)[:, 1]\n",
        "train_true_values = y_train\n",
        "\n",
        "# Define a range of thresholds to test\n",
        "thresholds = np.linspace(0, 1, 101)\n",
        "\n",
        "# Calculate profits for each threshold\n",
        "profits = calculate_profit(thresholds, train_probabilities, train_true_values)\n",
        "\n",
        "# Find the threshold with the maximum profit\n",
        "max_profit = max(profits)\n",
        "optimal_threshold = thresholds[profits.index(max_profit)]\n",
        "#optimal_threshold=0.38\n",
        "# Plot the profit curve\n",
        "plt.figure(figsize=(10, 6))\n",
        "plt.plot(thresholds, profits, label='Profit Curve')\n",
        "plt.scatter(optimal_threshold, max_profit, color='red', label='Optimal Threshold')\n",
        "plt.title('Profit Curve for Different Thresholds')\n",
        "plt.xlabel('Threshold')\n",
        "plt.ylabel('Profit')\n",
        "plt.legend()\n",
        "plt.grid(True)\n",
        "plt.show()\n",
        "\n",
        "optimal_threshold, max_profit"
      ],
      "metadata": {
        "colab": {
          "base_uri": "https://localhost:8080/",
          "height": 582
        },
        "id": "Bdjb4762T7k5",
        "outputId": "f6444e3e-4f27-4e9b-92d2-bd9e9f3a0aa8"
      },
      "execution_count": null,
      "outputs": [
        {
          "output_type": "display_data",
          "data": {
            "text/plain": [
              "<Figure size 1000x600 with 1 Axes>"
            ],
            "image/png": "[encoded data removed]"
          },
          "metadata": {}
        },
        {
          "output_type": "execute_result",
          "data": {
            "text/plain": [
              "(0.4, 46189.11488765001)"
            ]
          },
          "metadata": {},
          "execution_count": 301
        }
      ]
    },
    {
      "cell_type": "code",
      "source": [
        "# Feature Engineering: Creating a Debt-to-Income ratio (DTI) and categorizing 'length_of_employment'\n",
        "\n",
        "# Since we don't have the income data, we'll make a simplified assumption for demonstration\n",
        "# We'll assume that the 'loan_value' can serve as a proxy for debt and that the\n",
        "# 'instalment_rate' (which is a percentage of disposable income) can serve as a proxy for income\n",
        "# Define bins for the age feature\n",
        "age_bins = [0, 25, 35, 45, 55, 65, 75, 85, 95, 105]\n",
        "age_labels = ['0-24', '25-34', '35-44', '45-54', '55-64', '65-74', '75-84', '85-94', '95-104']\n",
        "train_data['age_binned'] = pd.cut(train_data['age'], bins=age_bins, labels=age_labels, include_lowest=True)\n",
        "\n",
        "\n",
        "# Apply the same binning to the test set\n",
        "test_data['age_binned'] = pd.cut(test_data['age'], bins=age_bins, labels=age_labels, include_lowest=True)\n",
        "\n",
        "# Calculate a proxy Debt-to-Income ratio: (loan_value / instalment_rate)\n",
        "# We will handle the division by zero by replacing inf values with a large number\n",
        "train_data['DTI_proxy'] = train_data['loan_value'] / (train_data['instalment_rate'] / 100)\n",
        "test_data['DTI_proxy'] = test_data['loan_value'] / (test_data['instalment_rate'] / 100)\n",
        "train_data['DTI_proxy'].replace([np.inf, -np.inf], np.max(train_data['DTI_proxy']), inplace=True)\n",
        "test_data['DTI_proxy'].replace([np.inf, -np.inf], np.max(test_data['DTI_proxy']), inplace=True)\n",
        "\n",
        "# Categorizing 'length_of_employment' into bins\n",
        "employment_length_bins = [-1, 0, 1, 4, 7, 10, 100]  # -1 for unemployed, 0 for <1 year, 1-4, 4-7, 7-10, >10 years\n",
        "employment_length_labels = ['unemployed', '<1', '1-4', '4-7', '7-10', '>10']\n",
        "train_data['employment_length_binned'] = pd.cut(train_data['length_of_employment'].map({'Unemployed': -1, '< 1 year': 0.5, '1-4 years': 2.5, '4-7 years': 5.5, '>= 7 years': 10}), bins=employment_length_bins, labels=employment_length_labels)\n",
        "test_data['employment_length_binned'] = pd.cut(test_data['length_of_employment'].map({'Unemployed': -1, '< 1 year': 0.5, '1-4 years': 2.5, '4-7 years': 5.5, '>= 7 years': 10}), bins=employment_length_bins, labels=employment_length_labels)\n",
        "\n",
        "# Correcting the previous error, we don't need to convert numerical_cols_updated to a list since it's already one.\n",
        "# Now, we will update the preprocessor with the newly engineered features.\n",
        "numerical_cols_updated = numerical_cols.drop('age')\n",
        "numerical_cols_updated = numerical_cols_updated.tolist() + ['DTI_proxy']\n",
        "\n",
        "# Correcting the previous error and redefining the categorical columns list\n",
        "categorical_cols_with_new_features = categorical_cols.tolist() + ['age_binned', 'employment_length_binned']\n",
        "\n",
        "# Updating the preprocessor to include the new features\n",
        "preprocessor_with_new_features = ColumnTransformer(\n",
        "    transformers=[\n",
        "        ('num', StandardScaler(), numerical_cols_updated),\n",
        "        ('cat', OneHotEncoder(handle_unknown='ignore'), categorical_cols_with_new_features)\n",
        "    ]\n",
        ")\n",
        "\n",
        "# Apply preprocessing to the training data with the new features\n",
        "X_train_with_new_features = preprocessor_with_new_features.fit_transform(train_data.drop('class', axis=1))\n",
        "y_train = train_data['class'].values\n",
        "\n",
        "# Apply the same preprocessing to the test data with the new features\n",
        "X_test_with_new_features = preprocessor_with_new_features.transform(test_data)\n",
        "\n",
        "ros = RandomOverSampler(random_state=0)\n",
        "X_resampled, y_resampled = ros.fit_resample(X_train_with_new_features, y_train)\n",
        "\n",
        "# Train a new model with the dataset including the new features\n",
        "rf_classifier_with_new_features = RandomForestClassifier(random_state=0)\n",
        "new_features_cv_scores = cross_val_score(rf_classifier_with_new_features, X_resampled, y_resampled, cv=5, scoring='roc_auc')\n",
        "\n",
        "# Train the model on the entire training data with the new features\n",
        "rf_classifier_with_new_features.fit(X_resampled, y_resampled)\n",
        "\n",
        "# Cross-validation scores for the model with the new features\n",
        "new_features_cv_scores_mean = new_features_cv_scores.mean()\n",
        "new_features_cv_scores_std = new_features_cv_scores.std()\n",
        "\n",
        "new_features_cv_scores_mean, new_features_cv_scores_std"
      ],
      "metadata": {
        "colab": {
          "base_uri": "https://localhost:8080/"
        },
        "id": "4pXP7lh_ZNnb",
        "outputId": "642691e0-5edc-45d9-fd4d-9939fce4fabc"
      },
      "execution_count": null,
      "outputs": [
        {
          "output_type": "execute_result",
          "data": {
            "text/plain": [
              "(0.9730901101994853, 0.02509703634774554)"
            ]
          },
          "metadata": {},
          "execution_count": 302
        }
      ]
    },
    {
      "cell_type": "code",
      "source": [
        "# Use the new model with engineered features to make predictions on the test set\n",
        "test_probabilities_with_new_features = rf_classifier_with_new_features.predict_proba(X_test_with_new_features)[:, 1]\n",
        "\n",
        "# Apply the previously determined optimal threshold to make final predictions\n",
        "final_predictions_with_new_features = (test_probabilities_with_new_features >= 0.40).astype(int)\n",
        "\n",
        "# Create a final submission dataframe with the new features and optimal threshold applied\n",
        "final_submission_with_new_features_df = pd.DataFrame({\n",
        "    'id': test_data.index,  # Assuming the test data index aligns with the needed 'id'\n",
        "    'class': final_predictions_with_new_features\n",
        "})\n",
        "\n",
        "# Save the final submission file with the new features and optimal threshold\n",
        "final_submission_with_new_features_file_path = 'final_submission_with_new_features_OP14.csv'\n",
        "final_submission_with_new_features_df.to_csv(final_submission_with_new_features_file_path, index=False)\n",
        "\n",
        "final_submission_with_new_features_file_path, final_submission_with_new_features_df.head()"
      ],
      "metadata": {
        "colab": {
          "base_uri": "https://localhost:8080/"
        },
        "id": "ielcO9PVZoO3",
        "outputId": "81ca09f4-26b8-4be1-d7e1-d6ee1d6da86c"
      },
      "execution_count": null,
      "outputs": [
        {
          "output_type": "execute_result",
          "data": {
            "text/plain": [
              "('final_submission_with_new_features_OP14.csv',\n",
              "    id  class\n",
              " 0   0      0\n",
              " 1   1      1\n",
              " 2   2      0\n",
              " 3   3      1\n",
              " 4   4      1)"
            ]
          },
          "metadata": {},
          "execution_count": 303
        }
      ]
    }
  ]
}